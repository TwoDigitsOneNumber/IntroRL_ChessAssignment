{
 "cells": [
  {
   "cell_type": "markdown",
   "id": "02944396",
   "metadata": {},
   "source": [
    "# Assignment"
   ]
  },
  {
   "cell_type": "code",
   "execution_count": 1,
   "id": "c9652bc6",
   "metadata": {},
   "outputs": [],
   "source": [
    "# Import \n",
    "\n",
    "import numpy as np\n",
    "import matplotlib.pyplot as plt\n",
    "from multiprocessing import Pool\n",
    "import os\n",
    "\n",
    "# import from files\n",
    "from degree_freedom_queen import *\n",
    "from degree_freedom_king1 import *\n",
    "from degree_freedom_king2 import *\n",
    "from generate_game import *\n",
    "from Chess_env import *\n",
    "\n",
    "from neural_net import *\n",
    "from helper_functions import *"
   ]
  },
  {
   "cell_type": "markdown",
   "id": "0bceca7c",
   "metadata": {},
   "source": [
    "## The Environment\n",
    "\n",
    "You can find the environment in the file Chess_env, which contains the class Chess_env. To define an object, you need to provide the board size considered as input. In our example, size_board=4. \n",
    "Chess_env is composed by the following methods:\n",
    "\n",
    "1. Initialise_game. The method initialises an episode by placing the three pieces considered (Agent's king and queen, enemy's king) in the chess board. The outputs of the method are described below in order.\n",
    "\n",
    "     - S $\\;$ A matrix representing the board locations filled with 4 numbers: 0, no piece in that position; 1, location of the \n",
    "     agent's king; 2 location of the queen; 3 location of the enemy king.\n",
    "     \n",
    "     - X $\\;$ The features, that is the input to the neural network. See the assignment for more information regarding the            definition of the features adopted. To personalise this, go into the Features method of the class Chess_env() and change        accordingly.\n",
    "     \n",
    "     - allowed_a $\\;$ The allowed actions that the agent can make. The agent is moving a king, with a total number of 8                possible actions, and a queen, with a total number of $(board_{size}-1)\\times 8$ actions. The total number of possible actions correspond      to the sum of the two, but not all actions are allowed in a given position (movements to locations outside the borders or      against chess rules). Thus, the variable allowed_a is a vector that is one (zero) for an action that the agent can (can't)      make. Be careful, apply the policy considered on the actions that are allowed only.\n",
    "     \n",
    "\n",
    "2. OneStep. The method performs a one step update of the system. Given as input the action selected by the agent, it updates the chess board by performing that action and the response of the enemy king (which is a random allowed action in the settings considered). The first three outputs are the same as for the Initialise_game method, but the variables are computed for the position reached after the update of the system. The fourth and fifth outputs are:\n",
    "\n",
    "     - R $\\;$ The reward. To change this, look at the OneStep method of the class where the rewards are set.\n",
    "     \n",
    "     - Done $\\;$ A variable that is 1 if the episode has ended (checkmate or draw).\n",
    "     \n",
    "     \n",
    "3. Features. Given the chessboard position, the method computes the features.\n",
    "\n",
    "This information and a quick analysis of the class should be all you need to get going. The other functions that the class exploits are uncommented and constitute an example on how not to write a python code. You can take a look at them if you want, but it is not necessary.\n",
    "\n",
    "\n",
    "\n",
    "\n"
   ]
  },
  {
   "cell_type": "code",
   "execution_count": 2,
   "id": "9593a299",
   "metadata": {},
   "outputs": [],
   "source": [
    "## INITIALISE THE ENVIRONMENT\n",
    "\n",
    "size_board = 4\n",
    "env=Chess_Env(size_board)"
   ]
  },
  {
   "cell_type": "markdown",
   "id": "2cb07fd4",
   "metadata": {},
   "source": [
    "# Random moves"
   ]
  },
  {
   "cell_type": "code",
   "execution_count": 3,
   "id": "bbc05bfd",
   "metadata": {},
   "outputs": [
    {
     "name": "stdout",
     "output_type": "stream",
     "text": [
      "[[3 0 0 0]\n",
      " [0 0 0 0]\n",
      " [0 0 0 0]\n",
      " [0 1 2 0]]\n",
      "check?  0\n",
      "dofk2  2\n",
      "\n",
      "[[0 0 2 0]\n",
      " [3 0 0 0]\n",
      " [0 0 0 0]\n",
      " [0 1 0 0]]\n",
      "0  0\n",
      "check?  0\n",
      "dofk2  0\n",
      "\n",
      "[[3 0 0 0]\n",
      " [0 0 2 0]\n",
      " [0 0 0 0]\n",
      " [0 1 0 0]]\n",
      "0  0\n",
      "check?  0\n",
      "dofk2  0\n",
      "\n",
      "[[3 0 0 0]\n",
      " [0 0 2 0]\n",
      " [0 0 0 0]\n",
      " [1 0 0 0]]\n",
      "0.0  1\n",
      "check?  0\n",
      "dofk2  0\n"
     ]
    }
   ],
   "source": [
    "## PRINT 5 STEPS OF AN EPISODE CONSIDERING A RANDOM AGENT\n",
    "\n",
    "S,X,allowed_a=env.Initialise_game()                       # INTIALISE GAME\n",
    "\n",
    "print(S)                                                  # PRINT CHESS BOARD (SEE THE DESCRIPTION ABOVE)\n",
    "\n",
    "print('check? ',env.check)                                # PRINT VARIABLE THAT TELLS IF ENEMY KING IS IN CHECK (1) OR NOT (0)\n",
    "print('dofk2 ',np.sum(env.dfk2_constrain).astype(int))    # PRINT THE NUMBER OF LOCATIONS THAT THE ENEMY KING CAN MOVE TO\n",
    "\n",
    "\n",
    "for i in range(5):\n",
    "    \n",
    "    a,_=np.where(allowed_a==1)                  # FIND WHAT THE ALLOWED ACTIONS ARE\n",
    "    a_agent=np.random.permutation(a)[0]         # MAKE A RANDOM ACTION\n",
    "\n",
    "    S,X,allowed_a,R,Done=env.OneStep(a_agent)   # UPDATE THE ENVIRONMENT\n",
    "    \n",
    "    \n",
    "    ## PRINT CHESS BOARD AND VARIABLES\n",
    "    print('')\n",
    "    print(S)\n",
    "    print(R,'', Done)\n",
    "    print('check? ',env.check)\n",
    "    print('dofk2 ',np.sum(env.dfk2_constrain).astype(int))\n",
    "    \n",
    "    \n",
    "    # TERMINATE THE EPISODE IF Done=True (DRAW OR CHECKMATE)\n",
    "    if Done:\n",
    "        break\n",
    "        \n"
   ]
  },
  {
   "cell_type": "markdown",
   "id": "332936f9",
   "metadata": {},
   "source": [
    "# Initialize game and set fixed parameters"
   ]
  },
  {
   "cell_type": "code",
   "execution_count": 4,
   "id": "ece20429",
   "metadata": {},
   "outputs": [],
   "source": [
    "# INITIALISE THE PARAMETERS OF YOUR NEURAL NETWORK AND...\n",
    "# PLEASE CONSIDER TO USE A MASK OF ONE FOR THE ACTION MADE AND ZERO OTHERWISE IF YOU ARE NOT USING VANILLA GRADIENT DESCENT...\n",
    "# WE SUGGEST A NETWORK WITH ONE HIDDEN LAYER WITH SIZE 200. \n",
    "\n",
    "\n",
    "S,X,allowed_a=env.Initialise_game()\n",
    "\n",
    "N_a=np.shape(allowed_a)[0]   # TOTAL NUMBER OF POSSIBLE ACTIONS\n",
    "N_in=np.shape(X)[0]    ## INPUT SIZE"
   ]
  },
  {
   "cell_type": "markdown",
   "id": "d8b622fc",
   "metadata": {},
   "source": [
    "# Choosing Hyperparameters\n",
    "Here I set the hyperparameters that are shared for all 3 reinforcement learning algorithms (Q-Learning, SARSA and DQN) to allow for a fair comparison. I used the provided default parameters, as they tend to perform very well on this task. The network architecture is also identical for all 3 algorithms."
   ]
  },
  {
   "cell_type": "code",
   "execution_count": 7,
   "id": "b2905528",
   "metadata": {},
   "outputs": [],
   "source": [
    "# HYPERPARAMETERS SUGGESTED (FOR A GRID SIZE OF 4)\n",
    "\n",
    "# defaults\n",
    "# epsilon_0 = 0.2     # STARTING VALUE OF EPSILON FOR THE EPSILON-GREEDY POLICY\n",
    "# beta = 0.00005      # THE PARAMETER SETS HOW QUICKLY THE VALUE OF EPSILON IS DECAYING (SEE epsilon_f BELOW)\n",
    "# gamma = 0.85        # THE DISCOUNT FACTOR\n",
    "# eta = 0.0035        # THE LEARNING RATE\n",
    "\n",
    "epsilon_0 = 0.2     # STARTING VALUE OF EPSILON FOR THE EPSILON-GREEDY POLICY\n",
    "beta = 0.00005      # THE PARAMETER SETS HOW QUICKLY THE VALUE OF EPSILON IS DECAYING (SEE epsilon_f BELOW)\n",
    "gamma = 0.85        # THE DISCOUNT FACTOR\n",
    "eta = 0.0035        # THE LEARNING RATE\n",
    "N_h=200                ## NUMBER OF HIDDEN NODES\n",
    "\n",
    "# DQN speific parameters\n",
    "C = 10  # number of steps after which the target network is updated\n",
    "capacity = 100_000  # capacity of the replay memory\n",
    "batch_size = 64  # size of the batch\n",
    "\n",
    "\n",
    "# number of games to be played\n",
    "# N_episodes = 100_000 \n",
    "# N_episodes = 50_000\n",
    "N_episodes = 5_000\n",
    "\n",
    "# chose method (\"sarsa\", \"qlearning\" or \"dqn\")\n",
    "method = \"qlearning\"\n",
    "\n",
    "# choose activation functions: \"relu\", \"sigmoid\", \"tanh\", None (identity)\n",
    "act1 = \"relu\"\n",
    "act2 = None\n",
    "\n",
    "# not a hyperparameter ;) (it's just here so that all parameters for initialization and training are in one place for better overview)\n",
    "seed = 21\n",
    "\n",
    "# name extension for saving the results\n",
    "name_extension = f\"seed_{seed}\""
   ]
  },
  {
   "cell_type": "markdown",
   "id": "fc229262",
   "metadata": {},
   "source": [
    "# Training Agents for All Algorithms"
   ]
  },
  {
   "cell_type": "markdown",
   "id": "96fc6dea",
   "metadata": {},
   "source": [
    "## Q-Learning Agent\n",
    "this agent trained in about 8 minutes for 100'000 episodes."
   ]
  },
  {
   "cell_type": "code",
   "execution_count": 8,
   "id": "41b5d3b0",
   "metadata": {},
   "outputs": [
    {
     "data": {
      "application/vnd.jupyter.widget-view+json": {
       "model_id": "58437ce6222b40c4aa6981c8e9ca11c4",
       "version_major": 2,
       "version_minor": 0
      },
      "text/plain": [
       "  0%|          | 0/5000 [00:00<?, ?episodes/s]"
      ]
     },
     "metadata": {},
     "output_type": "display_data"
    }
   ],
   "source": [
    "# instantiate the neural net for the qlearning agent\n",
    "method = \"qlearning\"\n",
    "\n",
    "qlearning = NeuralNetwork(N_in, N_h, N_a, activation_function_1=act1, activation_function_2=act2, method=method, seed=seed)\n",
    "\n",
    "# train the agent\n",
    "qlearning.train(env, N_episodes, eta, epsilon_0, beta, gamma)"
   ]
  },
  {
   "cell_type": "code",
   "execution_count": null,
   "id": "0224aeb9",
   "metadata": {},
   "outputs": [],
   "source": [
    "ema, steps = exponential_moving_average(qlearning.R_history)\n",
    "plt.plot(steps, ema)"
   ]
  },
  {
   "cell_type": "code",
   "execution_count": null,
   "id": "5e56b6e9",
   "metadata": {},
   "outputs": [],
   "source": [
    "ema, steps = exponential_moving_average(qlearning.N_moves_history)\n",
    "plt.plot(steps, ema)"
   ]
  },
  {
   "cell_type": "code",
   "execution_count": null,
   "id": "59f41788",
   "metadata": {},
   "outputs": [],
   "source": [
    "ema_1, steps = exponential_moving_average(qlearning.dL_dW1_norm_history)\n",
    "ema_2, steps = exponential_moving_average(qlearning.dL_dW2_norm_history)\n",
    "plt.plot(steps, ema_1, label=\"layer 1\")\n",
    "plt.plot(steps, ema_2, label=\"layer 2\")\n",
    "plt.title(\"Norm of gradients (Q-Learning)\")\n",
    "plt.legend()\n",
    "plt.plot()"
   ]
  },
  {
   "cell_type": "code",
   "execution_count": null,
   "id": "2fa69f1b",
   "metadata": {},
   "outputs": [],
   "source": [
    "# save model\n",
    "qlearning.save(name_extension)"
   ]
  },
  {
   "cell_type": "markdown",
   "id": "13f469d1",
   "metadata": {},
   "source": [
    "## SARSA Agent\n",
    "this agent trained in 2 minutes 53.1 seconds."
   ]
  },
  {
   "cell_type": "code",
   "execution_count": null,
   "id": "17d05b07",
   "metadata": {},
   "outputs": [],
   "source": [
    "# instantiate the neural net for the sarsa agent\n",
    "method = \"sarsa\"\n",
    "\n",
    "sarsa = NeuralNetwork(N_in, N_h, N_a, activation_function_1=act1, activation_function_2=act2, method=method, seed=seed)\n",
    "\n",
    "# train the agent\n",
    "sarsa.train(env, N_episodes, eta, epsilon_0, beta, gamma)"
   ]
  },
  {
   "cell_type": "code",
   "execution_count": null,
   "id": "71fa5bdb",
   "metadata": {},
   "outputs": [],
   "source": [
    "ema, steps = exponential_moving_average(sarsa.R_history)\n",
    "plt.plot(steps, ema)"
   ]
  },
  {
   "cell_type": "code",
   "execution_count": null,
   "id": "1f6d9052",
   "metadata": {},
   "outputs": [],
   "source": [
    "ema, steps = exponential_moving_average(sarsa.N_moves_history)\n",
    "plt.plot(steps, ema)"
   ]
  },
  {
   "cell_type": "code",
   "execution_count": null,
   "id": "1d1ca4a0",
   "metadata": {},
   "outputs": [],
   "source": [
    "ema_1, steps = exponential_moving_average(sarsa.dL_dW1_norm_history)\n",
    "ema_2, steps = exponential_moving_average(sarsa.dL_dW2_norm_history)\n",
    "plt.plot(steps, ema_1, label=\"layer 1\")\n",
    "plt.plot(steps, ema_2, label=\"layer 2\")\n",
    "plt.title(\"Norm of gradients (QLearning)\")\n",
    "plt.legend()\n",
    "plt.plot()"
   ]
  },
  {
   "cell_type": "code",
   "execution_count": null,
   "id": "f1c8556b",
   "metadata": {},
   "outputs": [],
   "source": [
    "# save model\n",
    "sarsa.save(name_extension)"
   ]
  },
  {
   "cell_type": "markdown",
   "id": "5c91bffc",
   "metadata": {},
   "source": [
    "## DQN Agent (with Experience Replay and Target Network)"
   ]
  },
  {
   "cell_type": "code",
   "execution_count": null,
   "id": "25ce25ea",
   "metadata": {},
   "outputs": [],
   "source": [
    "# instantiate the neural net for the sarsa agent\n",
    "method = \"dqn\"\n",
    "\n",
    "dqn = NeuralNetwork(N_in, N_h, N_a, activation_function_1=act1, activation_function_2=act2, method=method, seed=seed, C=C)\n",
    "\n",
    "# train the agent\n",
    "dqn.train(env, N_episodes, eta, epsilon_0, beta, gamma, batch_size=batch_size)"
   ]
  },
  {
   "cell_type": "code",
   "execution_count": null,
   "id": "556c5a34",
   "metadata": {},
   "outputs": [],
   "source": [
    "ema, steps = exponential_moving_average(dqn.R_history)\n",
    "plt.plot(steps, ema)"
   ]
  },
  {
   "cell_type": "code",
   "execution_count": null,
   "id": "aa194056",
   "metadata": {},
   "outputs": [],
   "source": [
    "ema, steps = exponential_moving_average(dqn.N_moves_history)\n",
    "plt.plot(steps, ema)"
   ]
  },
  {
   "cell_type": "code",
   "execution_count": null,
   "id": "56f2b747",
   "metadata": {},
   "outputs": [],
   "source": [
    "ema_1, steps = exponential_moving_average(dqn.dL_dW1_norm_history)\n",
    "ema_2, steps = exponential_moving_average(dqn.dL_dW2_norm_history)\n",
    "plt.plot(steps, ema_1, label=\"layer 1\")\n",
    "plt.plot(steps, ema_2, label=\"layer 2\")\n",
    "plt.title(\"Norm of gradients (QLearning)\")\n",
    "plt.legend()\n",
    "plt.plot()"
   ]
  },
  {
   "cell_type": "code",
   "execution_count": null,
   "id": "66e465b5",
   "metadata": {},
   "outputs": [],
   "source": [
    "# save model\n",
    "dqn.save(name_extension)"
   ]
  },
  {
   "cell_type": "markdown",
   "id": "2c83ef76",
   "metadata": {},
   "source": [
    "# Training without Seed\n",
    "We train the agents again, but this time without setting a seed. Because this makes it impossible to reproduce exactly we train each algorithm multiple times (multiple runs) and average the results per episode. Then we compute the EMA on the averaged results in case the results are still too noisy. For computational reasons we limit the number of runs to 30, which should be enough of variation to see some trends."
   ]
  },
  {
   "cell_type": "code",
   "execution_count": 9,
   "id": "990d5802",
   "metadata": {},
   "outputs": [
    {
     "name": "stdout",
     "output_type": "stream",
     "text": [
      "number of cpus: 3\n",
      "number of runs: 30\n"
     ]
    }
   ],
   "source": [
    "# parameters\n",
    "\n",
    "n_cpus = 2\n",
    "print(f\"number of cpus: {n_cpus}\")\n",
    "\n",
    "n_runs = 30\n",
    "print(f\"number of runs: {n_runs}\")"
   ]
  },
  {
   "cell_type": "code",
   "execution_count": 10,
   "id": "83f47615",
   "metadata": {},
   "outputs": [],
   "source": [
    "def training_runs(run_number):\n",
    "    # initialise the network\n",
    "    nn = NeuralNetwork(N_in, N_h, N_a, activation_function_1=act1, activation_function_2=act2, method=method, seed=None)\n",
    "    \n",
    "    # # train the network\n",
    "    nn.train(env, N_episodes, eta, epsilon_0, beta, gamma, run_number=run_number)\n",
    "\n",
    "    # # save the model\n",
    "    # name_extension = f\"{run_number}\"\n",
    "    # nn.save(name_extension)\n",
    "\n",
    "    # return reward history and number of moves history\n",
    "    return nn.R_history, nn.N_moves_history\n",
    "\n",
    "\n",
    "def run_in_parallel(method, n_cpus):\n",
    "    # start pool of processes\n",
    "    p = Pool(processes=n_cpus)\n",
    "\n",
    "    try:\n",
    "        # run the training runs\n",
    "        print(\"starting training runs...\")\n",
    "        histories = p.map(training_runs, np.arange(n_runs))\n",
    "        p.close()\n",
    "\n",
    "        # save summary statistics\n",
    "        save_avg_statistics(histories, method)\n",
    "    except KeyboardInterrupt:\n",
    "        p.close()"
   ]
  },
  {
   "cell_type": "markdown",
   "id": "388df17a",
   "metadata": {},
   "source": [
    "## Q-Learning"
   ]
  },
  {
   "cell_type": "code",
   "execution_count": 11,
   "id": "2ca5d025",
   "metadata": {},
   "outputs": [
    {
     "name": "stdout",
     "output_type": "stream",
     "text": [
      "starting training runs...\n"
     ]
    }
   ],
   "source": [
    "method = \"qlearning\"\n",
    "run_in_parallel(method, n_cpus)"
   ]
  },
  {
   "cell_type": "markdown",
   "id": "80cd22db",
   "metadata": {},
   "source": [
    "## SARSA"
   ]
  },
  {
   "cell_type": "code",
   "execution_count": null,
   "id": "21493432",
   "metadata": {},
   "outputs": [],
   "source": [
    "method = \"sarsa\"\n",
    "run_in_parallel(method, n_cpus)"
   ]
  },
  {
   "cell_type": "markdown",
   "id": "65ab5273",
   "metadata": {},
   "source": [
    "## DQN"
   ]
  },
  {
   "cell_type": "code",
   "execution_count": null,
   "id": "1eaf724a",
   "metadata": {},
   "outputs": [],
   "source": [
    "method = \"dqn\"\n",
    "run_in_parallel(method, n_cpus)"
   ]
  }
 ],
 "metadata": {
  "kernelspec": {
   "display_name": "Python 3 (ipykernel)",
   "language": "python",
   "name": "python3"
  },
  "language_info": {
   "codemirror_mode": {
    "name": "ipython",
    "version": 3
   },
   "file_extension": ".py",
   "mimetype": "text/x-python",
   "name": "python",
   "nbconvert_exporter": "python",
   "pygments_lexer": "ipython3",
   "version": "3.9.7"
  }
 },
 "nbformat": 4,
 "nbformat_minor": 5
}
